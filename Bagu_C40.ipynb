{
  "nbformat": 4,
  "nbformat_minor": 0,
  "metadata": {
    "colab": {
      "name": "Untitled0.ipynb",
      "provenance": []
    },
    "kernelspec": {
      "name": "python3",
      "display_name": "Python 3"
    },
    "language_info": {
      "name": "python"
    },
    "accelerator": "TPU"
  },
  "cells": [
    {
      "cell_type": "code",
      "source": [
        "#@title <--  Klik run & tunggu hasilnya seperti gambar diatas\n",
        "!lscpu "
      ],
      "metadata": {
        "colab": {
          "base_uri": "https://localhost:8080/"
        },
        "id": "z49pJ-bIMcn-",
        "outputId": "606650d0-eca7-48c4-ea9b-d919f8fb0454"
      },
      "execution_count": 1,
      "outputs": [
        {
          "output_type": "stream",
          "name": "stdout",
          "text": [
            "Architecture:        x86_64\n",
            "CPU op-mode(s):      32-bit, 64-bit\n",
            "Byte Order:          Little Endian\n",
            "CPU(s):              2\n",
            "On-line CPU(s) list: 0,1\n",
            "Thread(s) per core:  2\n",
            "Core(s) per socket:  1\n",
            "Socket(s):           1\n",
            "NUMA node(s):        1\n",
            "Vendor ID:           GenuineIntel\n",
            "CPU family:          6\n",
            "Model:               79\n",
            "Model name:          Intel(R) Xeon(R) CPU @ 2.20GHz\n",
            "Stepping:            0\n",
            "CPU MHz:             2199.998\n",
            "BogoMIPS:            4399.99\n",
            "Hypervisor vendor:   KVM\n",
            "Virtualization type: full\n",
            "L1d cache:           32K\n",
            "L1i cache:           32K\n",
            "L2 cache:            256K\n",
            "L3 cache:            56320K\n",
            "NUMA node0 CPU(s):   0,1\n",
            "Flags:               fpu vme de pse tsc msr pae mce cx8 apic sep mtrr pge mca cmov pat pse36 clflush mmx fxsr sse sse2 ss ht syscall nx pdpe1gb rdtscp lm constant_tsc rep_good nopl xtopology nonstop_tsc cpuid tsc_known_freq pni pclmulqdq ssse3 fma cx16 pcid sse4_1 sse4_2 x2apic movbe popcnt aes xsave avx f16c rdrand hypervisor lahf_lm abm 3dnowprefetch invpcid_single ssbd ibrs ibpb stibp fsgsbase tsc_adjust bmi1 hle avx2 smep bmi2 erms invpcid rtm rdseed adx smap xsaveopt arat md_clear arch_capabilities\n"
          ]
        }
      ]
    },
    {
      "cell_type": "code",
      "execution_count": null,
      "metadata": {
        "colab": {
          "base_uri": "https://localhost:8080/"
        },
        "id": "flwOo1F8LqU5",
        "outputId": "f122c3d3-0d87-4001-b7f9-233fc3ed40e8"
      },
      "outputs": [
        {
          "output_type": "stream",
          "name": "stdout",
          "text": [
            "Collecting gpu-tpu-lab-server\n",
            "  Downloading gpu_tpu_lab_server-0.0.6-py3-none-any.whl (8.4 kB)\n",
            "Requirement already satisfied: packaging in /usr/local/lib/python3.7/dist-packages (from gpu-tpu-lab-server) (21.3)\n",
            "Requirement already satisfied: pip in /usr/local/lib/python3.7/dist-packages (from gpu-tpu-lab-server) (21.1.3)\n",
            "Requirement already satisfied: pyparsing!=3.0.5,>=2.0.2 in /usr/local/lib/python3.7/dist-packages (from packaging->gpu-tpu-lab-server) (3.0.6)\n",
            "Installing collected packages: gpu-tpu-lab-server\n",
            "Successfully installed gpu-tpu-lab-server-0.0.6\n",
            "Mounted at /content/drive\n",
            "https://fastdaima.loca.lt/?folder=/content/drive/MyDrive/colab\n",
            "b'[2022-01-05T12:27:09.082Z] info  Wrote default config file to ~/.config/code-server/config.yaml'\n",
            "b'[2022-01-05T12:27:09.899Z] info  code-server 3.10.2 387b12ef4ca404ffd39d84834e1f0776e9e3c005'\n",
            "b'[2022-01-05T12:27:09.902Z] info  Using user-data-dir /content/drive/MyDrive/colab/.vscode'\n",
            "b'[2022-01-05T12:27:09.920Z] info  Using config file ~/.config/code-server/config.yaml'\n",
            "b'[2022-01-05T12:27:09.920Z] info  HTTP server listening on http://127.0.0.1:9000'\n",
            "b'[2022-01-05T12:27:09.920Z] info    - Authentication is disabled'\n",
            "b'[2022-01-05T12:27:09.921Z] info    - Not serving HTTPS'\n",
            "b'npx: installed 22 in 3.572s'\n",
            "b'your url is: https://horrible-grasshopper-94.loca.lt'\n"
          ]
        }
      ],
      "source": [
        "!pip install gpu-tpu-lab-server \n",
        "from gpu_tpu_lab_server.core import jupyter_lab, vscode, run_process_in_background, run_process_in_foreground \n",
        "vscode()"
      ]
    }
  ]
}